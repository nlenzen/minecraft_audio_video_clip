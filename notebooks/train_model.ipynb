{
  "nbformat": 4,
  "nbformat_minor": 0,
  "metadata": {
    "colab": {
      "provenance": [],
      "gpuType": "T4"
    },
    "kernelspec": {
      "name": "python3",
      "display_name": "Python 3"
    },
    "language_info": {
      "name": "python"
    },
    "accelerator": "GPU"
  },
  "cells": [
    {
      "cell_type": "markdown",
      "source": [
        "# Setup"
      ],
      "metadata": {
        "id": "0YS55LlpMYOA"
      }
    },
    {
      "cell_type": "code",
      "source": [
        "# Package required for using private repos\n",
        "# explanation here https://github.com/tsunrise/colab-github\n",
        "!wget -q https://raw.githubusercontent.com/tsunrise/colab-github/main/colab_github.py\n",
        "import colab_github\n",
        "colab_github.github_auth(persistent_key=True)"
      ],
      "metadata": {
        "colab": {
          "base_uri": "https://localhost:8080/"
        },
        "id": "DBMo1zVMNXNc",
        "outputId": "e9972541-905d-434a-d070-999ec0079eb9"
      },
      "execution_count": 1,
      "outputs": [
        {
          "output_type": "stream",
          "name": "stdout",
          "text": [
            "Drive already mounted at /content/drive/; to attempt to forcibly remount, call drive.mount(\"/content/drive/\", force_remount=True).\n",
            "Looks that a private key is already created. If you have already push it to github, no action required.\n",
            " Otherwise, Please go to https://github.com/settings/ssh/new to upload the following key: \n",
            "ssh-ed25519 AAAAC3NzaC1lZDI1NTE5AAAAINjtldkhEXNpZyV0yhI/GeOa/+Q35LQEyKs6d40KkvSK root@6a96cf879a1b\n",
            "\n",
            "Please use SSH method to clone repo.\n"
          ]
        }
      ]
    },
    {
      "cell_type": "code",
      "source": [
        "!rm -r prj_minecraft_avclip\n",
        "# Cloning project repository\n",
        "!git clone git@github.com:nlenzen/prj_minecraft_avclip.git"
      ],
      "metadata": {
        "id": "2QOfoPfgO9OS",
        "colab": {
          "base_uri": "https://localhost:8080/"
        },
        "outputId": "9d8233c1-0c6e-4206-e409-dacfea76dc56"
      },
      "execution_count": 2,
      "outputs": [
        {
          "output_type": "stream",
          "name": "stdout",
          "text": [
            "Cloning into 'prj_minecraft_avclip'...\n",
            "remote: Enumerating objects: 484, done.\u001b[K\n",
            "remote: Counting objects: 100% (247/247), done.\u001b[K\n",
            "remote: Compressing objects: 100% (168/168), done.\u001b[K\n",
            "remote: Total 484 (delta 177), reused 137 (delta 79), pack-reused 237\u001b[K\n",
            "Receiving objects: 100% (484/484), 1.39 MiB | 9.22 MiB/s, done.\n",
            "Resolving deltas: 100% (289/289), done.\n"
          ]
        }
      ]
    },
    {
      "cell_type": "code",
      "source": [
        "!pip install -r prj_minecraft_avclip/requirements.txt"
      ],
      "metadata": {
        "id": "OPCo2WSEhdTg",
        "colab": {
          "base_uri": "https://localhost:8080/"
        },
        "outputId": "1dd468ad-5dde-40d9-b37c-148e68226b2b"
      },
      "execution_count": 3,
      "outputs": [
        {
          "output_type": "stream",
          "name": "stdout",
          "text": [
            "Requirement already satisfied: dm-tree in /usr/local/lib/python3.10/dist-packages (from -r prj_minecraft_avclip/requirements.txt (line 1)) (0.1.8)\n",
            "Requirement already satisfied: torch in /usr/local/lib/python3.10/dist-packages (from -r prj_minecraft_avclip/requirements.txt (line 2)) (2.1.0+cu121)\n",
            "Requirement already satisfied: torchaudio in /usr/local/lib/python3.10/dist-packages (from -r prj_minecraft_avclip/requirements.txt (line 3)) (2.1.0+cu121)\n",
            "Requirement already satisfied: timm==0.4.5 in /usr/local/lib/python3.10/dist-packages (from -r prj_minecraft_avclip/requirements.txt (line 4)) (0.4.5)\n",
            "Requirement already satisfied: moviepy in /usr/local/lib/python3.10/dist-packages (from -r prj_minecraft_avclip/requirements.txt (line 5)) (1.0.3)\n",
            "Requirement already satisfied: librosa in /usr/local/lib/python3.10/dist-packages (from -r prj_minecraft_avclip/requirements.txt (line 6)) (0.10.1)\n",
            "Requirement already satisfied: x_transformers==0.27.1 in /usr/local/lib/python3.10/dist-packages (from -r prj_minecraft_avclip/requirements.txt (line 7)) (0.27.1)\n",
            "Requirement already satisfied: pydub in /usr/local/lib/python3.10/dist-packages (from -r prj_minecraft_avclip/requirements.txt (line 8)) (0.25.1)\n",
            "Requirement already satisfied: ffmpy in /usr/local/lib/python3.10/dist-packages (from -r prj_minecraft_avclip/requirements.txt (line 9)) (0.3.2)\n",
            "Requirement already satisfied: opencv-python in /usr/local/lib/python3.10/dist-packages (from -r prj_minecraft_avclip/requirements.txt (line 10)) (4.8.0.76)\n",
            "Requirement already satisfied: decord in /usr/local/lib/python3.10/dist-packages (from -r prj_minecraft_avclip/requirements.txt (line 11)) (0.6.0)\n",
            "Requirement already satisfied: torchvision in /usr/local/lib/python3.10/dist-packages (from timm==0.4.5->-r prj_minecraft_avclip/requirements.txt (line 4)) (0.16.0+cu121)\n",
            "Requirement already satisfied: einops>=0.3 in /usr/local/lib/python3.10/dist-packages (from x_transformers==0.27.1->-r prj_minecraft_avclip/requirements.txt (line 7)) (0.7.0)\n",
            "Requirement already satisfied: entmax in /usr/local/lib/python3.10/dist-packages (from x_transformers==0.27.1->-r prj_minecraft_avclip/requirements.txt (line 7)) (1.3)\n",
            "Requirement already satisfied: filelock in /usr/local/lib/python3.10/dist-packages (from torch->-r prj_minecraft_avclip/requirements.txt (line 2)) (3.13.1)\n",
            "Requirement already satisfied: typing-extensions in /usr/local/lib/python3.10/dist-packages (from torch->-r prj_minecraft_avclip/requirements.txt (line 2)) (4.9.0)\n",
            "Requirement already satisfied: sympy in /usr/local/lib/python3.10/dist-packages (from torch->-r prj_minecraft_avclip/requirements.txt (line 2)) (1.12)\n",
            "Requirement already satisfied: networkx in /usr/local/lib/python3.10/dist-packages (from torch->-r prj_minecraft_avclip/requirements.txt (line 2)) (3.2.1)\n",
            "Requirement already satisfied: jinja2 in /usr/local/lib/python3.10/dist-packages (from torch->-r prj_minecraft_avclip/requirements.txt (line 2)) (3.1.3)\n",
            "Requirement already satisfied: fsspec in /usr/local/lib/python3.10/dist-packages (from torch->-r prj_minecraft_avclip/requirements.txt (line 2)) (2023.6.0)\n",
            "Requirement already satisfied: triton==2.1.0 in /usr/local/lib/python3.10/dist-packages (from torch->-r prj_minecraft_avclip/requirements.txt (line 2)) (2.1.0)\n",
            "Requirement already satisfied: decorator<5.0,>=4.0.2 in /usr/local/lib/python3.10/dist-packages (from moviepy->-r prj_minecraft_avclip/requirements.txt (line 5)) (4.4.2)\n",
            "Requirement already satisfied: tqdm<5.0,>=4.11.2 in /usr/local/lib/python3.10/dist-packages (from moviepy->-r prj_minecraft_avclip/requirements.txt (line 5)) (4.66.2)\n",
            "Requirement already satisfied: requests<3.0,>=2.8.1 in /usr/local/lib/python3.10/dist-packages (from moviepy->-r prj_minecraft_avclip/requirements.txt (line 5)) (2.31.0)\n",
            "Requirement already satisfied: proglog<=1.0.0 in /usr/local/lib/python3.10/dist-packages (from moviepy->-r prj_minecraft_avclip/requirements.txt (line 5)) (0.1.10)\n",
            "Requirement already satisfied: numpy>=1.17.3 in /usr/local/lib/python3.10/dist-packages (from moviepy->-r prj_minecraft_avclip/requirements.txt (line 5)) (1.25.2)\n",
            "Requirement already satisfied: imageio<3.0,>=2.5 in /usr/local/lib/python3.10/dist-packages (from moviepy->-r prj_minecraft_avclip/requirements.txt (line 5)) (2.31.6)\n",
            "Requirement already satisfied: imageio-ffmpeg>=0.2.0 in /usr/local/lib/python3.10/dist-packages (from moviepy->-r prj_minecraft_avclip/requirements.txt (line 5)) (0.4.9)\n",
            "Requirement already satisfied: audioread>=2.1.9 in /usr/local/lib/python3.10/dist-packages (from librosa->-r prj_minecraft_avclip/requirements.txt (line 6)) (3.0.1)\n",
            "Requirement already satisfied: scipy>=1.2.0 in /usr/local/lib/python3.10/dist-packages (from librosa->-r prj_minecraft_avclip/requirements.txt (line 6)) (1.11.4)\n",
            "Requirement already satisfied: scikit-learn>=0.20.0 in /usr/local/lib/python3.10/dist-packages (from librosa->-r prj_minecraft_avclip/requirements.txt (line 6)) (1.2.2)\n",
            "Requirement already satisfied: joblib>=0.14 in /usr/local/lib/python3.10/dist-packages (from librosa->-r prj_minecraft_avclip/requirements.txt (line 6)) (1.3.2)\n",
            "Requirement already satisfied: numba>=0.51.0 in /usr/local/lib/python3.10/dist-packages (from librosa->-r prj_minecraft_avclip/requirements.txt (line 6)) (0.58.1)\n",
            "Requirement already satisfied: soundfile>=0.12.1 in /usr/local/lib/python3.10/dist-packages (from librosa->-r prj_minecraft_avclip/requirements.txt (line 6)) (0.12.1)\n",
            "Requirement already satisfied: pooch>=1.0 in /usr/local/lib/python3.10/dist-packages (from librosa->-r prj_minecraft_avclip/requirements.txt (line 6)) (1.8.0)\n",
            "Requirement already satisfied: soxr>=0.3.2 in /usr/local/lib/python3.10/dist-packages (from librosa->-r prj_minecraft_avclip/requirements.txt (line 6)) (0.3.7)\n",
            "Requirement already satisfied: lazy-loader>=0.1 in /usr/local/lib/python3.10/dist-packages (from librosa->-r prj_minecraft_avclip/requirements.txt (line 6)) (0.3)\n",
            "Requirement already satisfied: msgpack>=1.0 in /usr/local/lib/python3.10/dist-packages (from librosa->-r prj_minecraft_avclip/requirements.txt (line 6)) (1.0.7)\n",
            "Requirement already satisfied: pillow<10.1.0,>=8.3.2 in /usr/local/lib/python3.10/dist-packages (from imageio<3.0,>=2.5->moviepy->-r prj_minecraft_avclip/requirements.txt (line 5)) (9.4.0)\n",
            "Requirement already satisfied: setuptools in /usr/local/lib/python3.10/dist-packages (from imageio-ffmpeg>=0.2.0->moviepy->-r prj_minecraft_avclip/requirements.txt (line 5)) (67.7.2)\n",
            "Requirement already satisfied: llvmlite<0.42,>=0.41.0dev0 in /usr/local/lib/python3.10/dist-packages (from numba>=0.51.0->librosa->-r prj_minecraft_avclip/requirements.txt (line 6)) (0.41.1)\n",
            "Requirement already satisfied: platformdirs>=2.5.0 in /usr/local/lib/python3.10/dist-packages (from pooch>=1.0->librosa->-r prj_minecraft_avclip/requirements.txt (line 6)) (4.2.0)\n",
            "Requirement already satisfied: packaging>=20.0 in /usr/local/lib/python3.10/dist-packages (from pooch>=1.0->librosa->-r prj_minecraft_avclip/requirements.txt (line 6)) (23.2)\n",
            "Requirement already satisfied: charset-normalizer<4,>=2 in /usr/local/lib/python3.10/dist-packages (from requests<3.0,>=2.8.1->moviepy->-r prj_minecraft_avclip/requirements.txt (line 5)) (3.3.2)\n",
            "Requirement already satisfied: idna<4,>=2.5 in /usr/local/lib/python3.10/dist-packages (from requests<3.0,>=2.8.1->moviepy->-r prj_minecraft_avclip/requirements.txt (line 5)) (3.6)\n",
            "Requirement already satisfied: urllib3<3,>=1.21.1 in /usr/local/lib/python3.10/dist-packages (from requests<3.0,>=2.8.1->moviepy->-r prj_minecraft_avclip/requirements.txt (line 5)) (2.0.7)\n",
            "Requirement already satisfied: certifi>=2017.4.17 in /usr/local/lib/python3.10/dist-packages (from requests<3.0,>=2.8.1->moviepy->-r prj_minecraft_avclip/requirements.txt (line 5)) (2024.2.2)\n",
            "Requirement already satisfied: threadpoolctl>=2.0.0 in /usr/local/lib/python3.10/dist-packages (from scikit-learn>=0.20.0->librosa->-r prj_minecraft_avclip/requirements.txt (line 6)) (3.2.0)\n",
            "Requirement already satisfied: cffi>=1.0 in /usr/local/lib/python3.10/dist-packages (from soundfile>=0.12.1->librosa->-r prj_minecraft_avclip/requirements.txt (line 6)) (1.16.0)\n",
            "Requirement already satisfied: MarkupSafe>=2.0 in /usr/local/lib/python3.10/dist-packages (from jinja2->torch->-r prj_minecraft_avclip/requirements.txt (line 2)) (2.1.5)\n",
            "Requirement already satisfied: mpmath>=0.19 in /usr/local/lib/python3.10/dist-packages (from sympy->torch->-r prj_minecraft_avclip/requirements.txt (line 2)) (1.3.0)\n",
            "Requirement already satisfied: pycparser in /usr/local/lib/python3.10/dist-packages (from cffi>=1.0->soundfile>=0.12.1->librosa->-r prj_minecraft_avclip/requirements.txt (line 6)) (2.21)\n"
          ]
        }
      ]
    },
    {
      "cell_type": "markdown",
      "source": [
        "# Code"
      ],
      "metadata": {
        "id": "hYhTGO63MXlt"
      }
    },
    {
      "cell_type": "code",
      "source": [
        "# Imports\n",
        "from importlib import reload\n",
        "\n",
        "import torch\n",
        "import prj_minecraft_avclip.source as src"
      ],
      "metadata": {
        "id": "WkKAAr5dMbBR"
      },
      "execution_count": 4,
      "outputs": []
    },
    {
      "cell_type": "code",
      "source": [
        "reload(src)"
      ],
      "metadata": {
        "id": "FGdE38BWiO_Q",
        "colab": {
          "base_uri": "https://localhost:8080/"
        },
        "outputId": "83819d5c-0e52-46a0-de3e-4af7ad881417"
      },
      "execution_count": 5,
      "outputs": [
        {
          "output_type": "execute_result",
          "data": {
            "text/plain": [
              "<module 'prj_minecraft_avclip.source' from '/content/prj_minecraft_avclip/source/__init__.py'>"
            ]
          },
          "metadata": {},
          "execution_count": 5
        }
      ]
    },
    {
      "cell_type": "code",
      "source": [
        "\"\"\"\n",
        "video_enc_path = '/content/drive/MyDrive/Bachelorarbeit/checkpoints/mineclip/attn.pth'\n",
        "audio_enc_path = '/content/drive/MyDrive/Bachelorarbeit/checkpoints/ast/audioset_10_10_0.4593.pth'\n",
        "savepath= '/content/drive/MyDrive/Bachelorarbeit/checkpoints/model/base_chkpt.pth'\n",
        "\n",
        "model = util.init_model(video_enc_path=video_enc_path, audio_enc_path=audio_enc_path, device=device)\n",
        "util.save_model(model, savepath)\n",
        "\"\"\""
      ],
      "metadata": {
        "id": "nRnktL_xPhlv",
        "colab": {
          "base_uri": "https://localhost:8080/",
          "height": 87
        },
        "outputId": "78f4fe1c-c6af-481c-b91c-769458808962"
      },
      "execution_count": 6,
      "outputs": [
        {
          "output_type": "execute_result",
          "data": {
            "text/plain": [
              "\"\\nvideo_enc_path = '/content/drive/MyDrive/Bachelorarbeit/checkpoints/mineclip/attn.pth'\\naudio_enc_path = '/content/drive/MyDrive/Bachelorarbeit/checkpoints/ast/audioset_10_10_0.4593.pth'\\nsavepath= '/content/drive/MyDrive/Bachelorarbeit/checkpoints/model/base_chkpt.pth'\\n\\nmodel = util.init_model(video_enc_path=video_enc_path, audio_enc_path=audio_enc_path, device=device)\\nutil.save_model(model, savepath)\\n\""
            ],
            "application/vnd.google.colaboratory.intrinsic+json": {
              "type": "string"
            }
          },
          "metadata": {},
          "execution_count": 6
        }
      ]
    },
    {
      "cell_type": "code",
      "source": [
        "device = torch.device('cuda' if torch.cuda.is_available() else 'cpu')\n",
        "model_path = '/content/drive/MyDrive/Bachelorarbeit/checkpoints/model/base_chkpt.pth'\n",
        "savepath = '/content/drive/MyDrive/Bachelorarbeit/checkpoints/model/test_1.pth'\n",
        "\n",
        "# Paths for dataloader\n",
        "train_data_path = '/content/drive/MyDrive/Bachelorarbeit/datasets/test/train_data.csv'\n",
        "test_data_path = '/content/drive/MyDrive/Bachelorarbeit/datasets/test/test_data.csv'\n",
        "source_video_path = '/content/drive/MyDrive/Bachelorarbeit/videos/resampled/minecraft_video_1_resampled.mp4'\n",
        "\n",
        "dataloader = src.Dataloader2(48, train_data_path, test_data_path)\n",
        "# dataloader.create_train_test_set(source_video_path)"
      ],
      "metadata": {
        "id": "ZsbA981HSopp"
      },
      "execution_count": 7,
      "outputs": []
    },
    {
      "cell_type": "code",
      "source": [
        "print(len(dataloader.train_data))"
      ],
      "metadata": {
        "colab": {
          "base_uri": "https://localhost:8080/"
        },
        "id": "6W26N54yXm4O",
        "outputId": "5c897240-2746-43b5-ed6b-f9b356102e36"
      },
      "execution_count": 8,
      "outputs": [
        {
          "output_type": "stream",
          "name": "stdout",
          "text": [
            "40676\n"
          ]
        }
      ]
    },
    {
      "cell_type": "code",
      "source": [
        "model, acc_v, acc_a = src.train_model(model_path, dataloader, savepath)"
      ],
      "metadata": {
        "id": "ZiEHCvRtn8J0",
        "colab": {
          "base_uri": "https://localhost:8080/",
          "height": 374
        },
        "outputId": "8faaa861-c942-4112-d559-a19d5faba5cf"
      },
      "execution_count": 9,
      "outputs": [
        {
          "output_type": "stream",
          "name": "stdout",
          "text": [
            "training for 100 epochs\n",
            "Epoch 0/100\n",
            "Training...\n"
          ]
        },
        {
          "output_type": "stream",
          "name": "stderr",
          "text": [
            "Processing batch:  42%|████▏     | 360/848 [1:48:29<2:27:03, 18.08s/it]\n"
          ]
        },
        {
          "output_type": "error",
          "ename": "KeyboardInterrupt",
          "evalue": "",
          "traceback": [
            "\u001b[0;31m---------------------------------------------------------------------------\u001b[0m",
            "\u001b[0;31mKeyboardInterrupt\u001b[0m                         Traceback (most recent call last)",
            "\u001b[0;32m<ipython-input-9-c92315accb89>\u001b[0m in \u001b[0;36m<cell line: 1>\u001b[0;34m()\u001b[0m\n\u001b[0;32m----> 1\u001b[0;31m \u001b[0mmodel\u001b[0m\u001b[0;34m,\u001b[0m \u001b[0macc_v\u001b[0m\u001b[0;34m,\u001b[0m \u001b[0macc_a\u001b[0m \u001b[0;34m=\u001b[0m \u001b[0msrc\u001b[0m\u001b[0;34m.\u001b[0m\u001b[0mtrain_model\u001b[0m\u001b[0;34m(\u001b[0m\u001b[0mmodel_path\u001b[0m\u001b[0;34m,\u001b[0m \u001b[0mdataloader\u001b[0m\u001b[0;34m,\u001b[0m \u001b[0msavepath\u001b[0m\u001b[0;34m)\u001b[0m\u001b[0;34m\u001b[0m\u001b[0;34m\u001b[0m\u001b[0m\n\u001b[0m",
            "\u001b[0;32m/content/prj_minecraft_avclip/source/train.py\u001b[0m in \u001b[0;36mtrain_model\u001b[0;34m(chkpt_path, dataloader, savepath, lr, num_epochs)\u001b[0m\n\u001b[1;32m     88\u001b[0m             \u001b[0;31m# Save model every 20 batches, since the learning pipeline is so slow atm\u001b[0m\u001b[0;34m\u001b[0m\u001b[0;34m\u001b[0m\u001b[0m\n\u001b[1;32m     89\u001b[0m             \u001b[0;32mif\u001b[0m \u001b[0mnum_batch\u001b[0m \u001b[0;34m%\u001b[0m \u001b[0;36m20\u001b[0m \u001b[0;34m==\u001b[0m \u001b[0;36m0\u001b[0m\u001b[0;34m:\u001b[0m\u001b[0;34m\u001b[0m\u001b[0;34m\u001b[0m\u001b[0m\n\u001b[0;32m---> 90\u001b[0;31m                 \u001b[0msave_model\u001b[0m\u001b[0;34m(\u001b[0m\u001b[0mmodel\u001b[0m\u001b[0;34m,\u001b[0m \u001b[0moptimizer\u001b[0m\u001b[0;34m,\u001b[0m \u001b[0mlosses\u001b[0m\u001b[0;34m,\u001b[0m \u001b[0maccuracies_audio\u001b[0m\u001b[0;34m,\u001b[0m \u001b[0maccuracies_video\u001b[0m\u001b[0;34m,\u001b[0m \u001b[0mfinished_epoch\u001b[0m\u001b[0;34m,\u001b[0m \u001b[0mscheduler\u001b[0m\u001b[0;34m,\u001b[0m \u001b[0msavepath\u001b[0m\u001b[0;34m)\u001b[0m\u001b[0;34m\u001b[0m\u001b[0;34m\u001b[0m\u001b[0m\n\u001b[0m\u001b[1;32m     91\u001b[0m \u001b[0;34m\u001b[0m\u001b[0m\n\u001b[1;32m     92\u001b[0m         \u001b[0;31m# Evaluate epoch performance\u001b[0m\u001b[0;34m\u001b[0m\u001b[0;34m\u001b[0m\u001b[0m\n",
            "\u001b[0;32m/content/prj_minecraft_avclip/source/train.py\u001b[0m in \u001b[0;36msave_model\u001b[0;34m(model, optimizer, losses, accuracies_audio, accuracies_video, epoch, scheduler, savepath)\u001b[0m\n\u001b[1;32m    157\u001b[0m         \u001b[0;34m'state_dict'\u001b[0m\u001b[0;34m:\u001b[0m \u001b[0mmodel\u001b[0m\u001b[0;34m.\u001b[0m\u001b[0mstate_dict\u001b[0m\u001b[0;34m(\u001b[0m\u001b[0;34m)\u001b[0m\u001b[0;34m\u001b[0m\u001b[0;34m\u001b[0m\u001b[0m\n\u001b[1;32m    158\u001b[0m     }\n\u001b[0;32m--> 159\u001b[0;31m     \u001b[0mtorch\u001b[0m\u001b[0;34m.\u001b[0m\u001b[0msave\u001b[0m\u001b[0;34m(\u001b[0m\u001b[0mdic\u001b[0m\u001b[0;34m,\u001b[0m \u001b[0msavepath\u001b[0m\u001b[0;34m)\u001b[0m\u001b[0;34m\u001b[0m\u001b[0;34m\u001b[0m\u001b[0m\n\u001b[0m",
            "\u001b[0;32m/usr/local/lib/python3.10/dist-packages/torch/serialization.py\u001b[0m in \u001b[0;36msave\u001b[0;34m(obj, f, pickle_module, pickle_protocol, _use_new_zipfile_serialization, _disable_byteorder_record)\u001b[0m\n\u001b[1;32m    617\u001b[0m     \u001b[0;32mif\u001b[0m \u001b[0m_use_new_zipfile_serialization\u001b[0m\u001b[0;34m:\u001b[0m\u001b[0;34m\u001b[0m\u001b[0;34m\u001b[0m\u001b[0m\n\u001b[1;32m    618\u001b[0m         \u001b[0;32mwith\u001b[0m \u001b[0m_open_zipfile_writer\u001b[0m\u001b[0;34m(\u001b[0m\u001b[0mf\u001b[0m\u001b[0;34m)\u001b[0m \u001b[0;32mas\u001b[0m \u001b[0mopened_zipfile\u001b[0m\u001b[0;34m:\u001b[0m\u001b[0;34m\u001b[0m\u001b[0;34m\u001b[0m\u001b[0m\n\u001b[0;32m--> 619\u001b[0;31m             \u001b[0m_save\u001b[0m\u001b[0;34m(\u001b[0m\u001b[0mobj\u001b[0m\u001b[0;34m,\u001b[0m \u001b[0mopened_zipfile\u001b[0m\u001b[0;34m,\u001b[0m \u001b[0mpickle_module\u001b[0m\u001b[0;34m,\u001b[0m \u001b[0mpickle_protocol\u001b[0m\u001b[0;34m,\u001b[0m \u001b[0m_disable_byteorder_record\u001b[0m\u001b[0;34m)\u001b[0m\u001b[0;34m\u001b[0m\u001b[0;34m\u001b[0m\u001b[0m\n\u001b[0m\u001b[1;32m    620\u001b[0m             \u001b[0;32mreturn\u001b[0m\u001b[0;34m\u001b[0m\u001b[0;34m\u001b[0m\u001b[0m\n\u001b[1;32m    621\u001b[0m     \u001b[0;32melse\u001b[0m\u001b[0;34m:\u001b[0m\u001b[0;34m\u001b[0m\u001b[0;34m\u001b[0m\u001b[0m\n",
            "\u001b[0;32m/usr/local/lib/python3.10/dist-packages/torch/serialization.py\u001b[0m in \u001b[0;36m_save\u001b[0;34m(obj, zip_file, pickle_module, pickle_protocol, _disable_byteorder_record)\u001b[0m\n\u001b[1;32m    851\u001b[0m         \u001b[0;31m# Now that it is on the CPU we can directly copy it into the zip file\u001b[0m\u001b[0;34m\u001b[0m\u001b[0;34m\u001b[0m\u001b[0m\n\u001b[1;32m    852\u001b[0m         \u001b[0mnum_bytes\u001b[0m \u001b[0;34m=\u001b[0m \u001b[0mstorage\u001b[0m\u001b[0;34m.\u001b[0m\u001b[0mnbytes\u001b[0m\u001b[0;34m(\u001b[0m\u001b[0;34m)\u001b[0m\u001b[0;34m\u001b[0m\u001b[0;34m\u001b[0m\u001b[0m\n\u001b[0;32m--> 853\u001b[0;31m         \u001b[0mzip_file\u001b[0m\u001b[0;34m.\u001b[0m\u001b[0mwrite_record\u001b[0m\u001b[0;34m(\u001b[0m\u001b[0mname\u001b[0m\u001b[0;34m,\u001b[0m \u001b[0mstorage\u001b[0m\u001b[0;34m.\u001b[0m\u001b[0mdata_ptr\u001b[0m\u001b[0;34m(\u001b[0m\u001b[0;34m)\u001b[0m\u001b[0;34m,\u001b[0m \u001b[0mnum_bytes\u001b[0m\u001b[0;34m)\u001b[0m\u001b[0;34m\u001b[0m\u001b[0;34m\u001b[0m\u001b[0m\n\u001b[0m\u001b[1;32m    854\u001b[0m \u001b[0;34m\u001b[0m\u001b[0m\n\u001b[1;32m    855\u001b[0m \u001b[0;34m\u001b[0m\u001b[0m\n",
            "\u001b[0;31mKeyboardInterrupt\u001b[0m: "
          ]
        }
      ]
    },
    {
      "cell_type": "code",
      "source": [
        "import matplotlib.pyplot as plt\n",
        "savepath = '/content/drive/MyDrive/Bachelorarbeit/checkpoints/model/test_1.pth'\n",
        "\n",
        "\n",
        "chkpt = torch.load(model_path)\n",
        "\n",
        "# losses = chkpt['losses']\n",
        "# plt.plot(losses)"
      ],
      "metadata": {
        "id": "iptrsgvX3nWR"
      },
      "execution_count": 13,
      "outputs": []
    },
    {
      "cell_type": "code",
      "source": [],
      "metadata": {
        "id": "NzIy02rABMWX"
      },
      "execution_count": null,
      "outputs": []
    }
  ]
}